{
 "cells": [
  {
   "cell_type": "markdown",
   "metadata": {},
   "source": [
    "# Medical Appointment No Shows Data Analysis Project\n",
    "\n",
    "\n",
    "## Table of Contents\n",
    "<ul>\n",
    "<li><a href=\"#intro\">Introduction</a></li>\n",
    "<li><a href=\"#wrangling\">Data Wrangling</a></li>\n",
    "<li><a href=\"#eda\">Exploratory Data Analysis</a></li>\n",
    "<li><a href=\"#conclusions\">Conclusions</a></li>\n",
    "</ul>"
   ]
  },
  {
   "cell_type": "markdown",
   "metadata": {},
   "source": [
    "<a id='intro'></a>\n",
    "## Introduction\n",
    "\n",
    "> -In this project we'll be analyzing data associated with medical appointments that focused on the question of whether or not patients show up for their appointment, and what are the factors that affects no-show ups for the appointment.\n",
    ">\n",
    ">- The dataset is from :https://www.kaggle.com/joniarroba/noshowappointments\n",
    ">\n",
    "> <b>Dataset Properties:</b>\n",
    ">\n",
    ">> <b>110527 rows</b> , and <b>14 variables</b>\n",
    ">\n",
    ">><b>Variables meaning:</b>\n",
    ">>\n",
    ">><b>1 - PatientId:</b> Identification of a patient.\n",
    ">>\n",
    ">><b>2 - AppointmentID:</b> Identification of each appointment.\n",
    ">>\n",
    ">><b>3 - Gender:</b> Male or Female.\n",
    ">>\n",
    ">><b>4 - DataMarcacaoConsulta:</b> The day of the actuall appointment, when they have to visit the doctor.\n",
    ">>\n",
    ">><b>5 - DataAgendamento:</b> The day someone called or registered the appointment, this is before appointment.\n",
    ">>\n",
    ">><b>6 - Age:</b> How old is the patient.\n",
    ">>\n",
    ">><b>7 - Neighbourhood:</b> Where the appointment takes place.\n",
    ">>\n",
    ">><b>8 - Scholarship:</b> True of False . (scholarship for poor people in Brazil).\n",
    ">>\n",
    ">><b>9 - Hipertension:</b> True or False.\n",
    ">>\n",
    ">><b>10 - Diabetes:</b> True or False.\n",
    ">>\n",
    ">><b>11 - Alcoholism:</b> True or False.\n",
    ">>\n",
    ">><b>12 - Handcap:</b> True or False.\n",
    ">>\n",
    ">><b>13 - SMS_received:</b> 1 or more messages sent to the patient.\n",
    ">>\n",
    ">><b>14 - No-show:</b> True or False.\n",
    "\n",
    "\n",
    "> -<b>As we have a dataset first so we are going to ask questions based on it</b>.\n",
    ">\n",
    "> -<b>Questions</b>:\n",
    ">><b>Questions we are going to answer at the end:</b>\n",
    ">>>1-What factors are important for us to know in order to predict if a patient will show up for their scheduled appointment?\n",
    ">>>\n",
    ">>>2- does the neighborhood is an important factor that make the patient doesnot show up?\n",
    ">>>\n",
    ">>>\n",
    ">>>3-The waiting time of the patient between the schedule day and the appointment day influences it's no showing?\n",
    ">>>\n",
    ">>>4- did the people who recive the sms show up more than those who are not?\n",
    "\n",
    "\n",
    ">> <b>Questions to thought abbout?</b>\n",
    ">>>\n",
    ">>>5-does the patients with scholarships show up more than those who are not? \n",
    ">>>\n",
    ">>>6- does the gender affects the showing up to the appointment?\n",
    ">>\n",
    "\n",
    "\n",
    "> -<b>One dependent variable</b> \n",
    ">\n",
    ">>-No_show\n",
    ">\n",
    "> -<b>13 independent variables</b>\n",
    ">> \n",
    ">>the rest of the variables are independed"
   ]
  },
  {
   "cell_type": "code",
   "execution_count": 815,
   "metadata": {},
   "outputs": [],
   "source": [
    "#importing needed packages \n",
    "import numpy as np\n",
    "import pandas as pd \n",
    "import matplotlib.pyplot as plt\n",
    "import seaborn as sns\n",
    "from datetime import timedelta\n",
    "%matplotlib inline "
   ]
  },
  {
   "cell_type": "markdown",
   "metadata": {},
   "source": [
    "<a id='wrangling'></a>\n",
    "## Data Wrangling"
   ]
  },
  {
   "cell_type": "markdown",
   "metadata": {},
   "source": [
    ">Here we are going to do 2 steps:\n",
    ">>1- <b>Assessing Data:</b> exploring data and giving comments over all the weired, wrong, and missing values in the data.\n",
    ">>\n",
    ">>2- <b>Cleaning data:</b> clean the data by using the comments we wrote."
   ]
  },
  {
   "cell_type": "markdown",
   "metadata": {},
   "source": [
    "### 1 - Assessing Data"
   ]
  },
  {
   "cell_type": "code",
   "execution_count": 816,
   "metadata": {
    "scrolled": true
   },
   "outputs": [
    {
     "data": {
      "text/html": [
       "<div>\n",
       "<style scoped>\n",
       "    .dataframe tbody tr th:only-of-type {\n",
       "        vertical-align: middle;\n",
       "    }\n",
       "\n",
       "    .dataframe tbody tr th {\n",
       "        vertical-align: top;\n",
       "    }\n",
       "\n",
       "    .dataframe thead th {\n",
       "        text-align: right;\n",
       "    }\n",
       "</style>\n",
       "<table border=\"1\" class=\"dataframe\">\n",
       "  <thead>\n",
       "    <tr style=\"text-align: right;\">\n",
       "      <th></th>\n",
       "      <th>PatientId</th>\n",
       "      <th>AppointmentID</th>\n",
       "      <th>Gender</th>\n",
       "      <th>ScheduledDay</th>\n",
       "      <th>AppointmentDay</th>\n",
       "      <th>Age</th>\n",
       "      <th>Neighbourhood</th>\n",
       "      <th>Scholarship</th>\n",
       "      <th>Hipertension</th>\n",
       "      <th>Diabetes</th>\n",
       "      <th>Alcoholism</th>\n",
       "      <th>Handcap</th>\n",
       "      <th>SMS_received</th>\n",
       "      <th>No-show</th>\n",
       "    </tr>\n",
       "  </thead>\n",
       "  <tbody>\n",
       "    <tr>\n",
       "      <th>50364</th>\n",
       "      <td>2.642797e+13</td>\n",
       "      <td>5719661</td>\n",
       "      <td>F</td>\n",
       "      <td>2016-05-19T11:45:47Z</td>\n",
       "      <td>2016-05-25T00:00:00Z</td>\n",
       "      <td>59</td>\n",
       "      <td>SANTA CLARA</td>\n",
       "      <td>0</td>\n",
       "      <td>1</td>\n",
       "      <td>0</td>\n",
       "      <td>0</td>\n",
       "      <td>0</td>\n",
       "      <td>1</td>\n",
       "      <td>No</td>\n",
       "    </tr>\n",
       "    <tr>\n",
       "      <th>87558</th>\n",
       "      <td>7.329589e+13</td>\n",
       "      <td>5707027</td>\n",
       "      <td>F</td>\n",
       "      <td>2016-05-17T09:05:45Z</td>\n",
       "      <td>2016-06-02T00:00:00Z</td>\n",
       "      <td>28</td>\n",
       "      <td>JABOUR</td>\n",
       "      <td>0</td>\n",
       "      <td>0</td>\n",
       "      <td>0</td>\n",
       "      <td>0</td>\n",
       "      <td>0</td>\n",
       "      <td>0</td>\n",
       "      <td>No</td>\n",
       "    </tr>\n",
       "    <tr>\n",
       "      <th>82295</th>\n",
       "      <td>2.681515e+11</td>\n",
       "      <td>5702439</td>\n",
       "      <td>M</td>\n",
       "      <td>2016-05-16T12:22:16Z</td>\n",
       "      <td>2016-05-16T00:00:00Z</td>\n",
       "      <td>59</td>\n",
       "      <td>ITARARÉ</td>\n",
       "      <td>0</td>\n",
       "      <td>1</td>\n",
       "      <td>0</td>\n",
       "      <td>1</td>\n",
       "      <td>0</td>\n",
       "      <td>0</td>\n",
       "      <td>No</td>\n",
       "    </tr>\n",
       "    <tr>\n",
       "      <th>73442</th>\n",
       "      <td>3.681273e+13</td>\n",
       "      <td>5640470</td>\n",
       "      <td>M</td>\n",
       "      <td>2016-04-29T10:46:49Z</td>\n",
       "      <td>2016-05-20T00:00:00Z</td>\n",
       "      <td>4</td>\n",
       "      <td>SANTOS REIS</td>\n",
       "      <td>0</td>\n",
       "      <td>0</td>\n",
       "      <td>0</td>\n",
       "      <td>0</td>\n",
       "      <td>0</td>\n",
       "      <td>0</td>\n",
       "      <td>No</td>\n",
       "    </tr>\n",
       "    <tr>\n",
       "      <th>12365</th>\n",
       "      <td>4.481140e+12</td>\n",
       "      <td>5749521</td>\n",
       "      <td>M</td>\n",
       "      <td>2016-05-31T07:54:48Z</td>\n",
       "      <td>2016-05-31T00:00:00Z</td>\n",
       "      <td>50</td>\n",
       "      <td>ILHA DO PRÍNCIPE</td>\n",
       "      <td>0</td>\n",
       "      <td>1</td>\n",
       "      <td>0</td>\n",
       "      <td>1</td>\n",
       "      <td>0</td>\n",
       "      <td>0</td>\n",
       "      <td>No</td>\n",
       "    </tr>\n",
       "  </tbody>\n",
       "</table>\n",
       "</div>"
      ],
      "text/plain": [
       "          PatientId  AppointmentID Gender          ScheduledDay  \\\n",
       "50364  2.642797e+13        5719661      F  2016-05-19T11:45:47Z   \n",
       "87558  7.329589e+13        5707027      F  2016-05-17T09:05:45Z   \n",
       "82295  2.681515e+11        5702439      M  2016-05-16T12:22:16Z   \n",
       "73442  3.681273e+13        5640470      M  2016-04-29T10:46:49Z   \n",
       "12365  4.481140e+12        5749521      M  2016-05-31T07:54:48Z   \n",
       "\n",
       "             AppointmentDay  Age     Neighbourhood  Scholarship  Hipertension  \\\n",
       "50364  2016-05-25T00:00:00Z   59       SANTA CLARA            0             1   \n",
       "87558  2016-06-02T00:00:00Z   28            JABOUR            0             0   \n",
       "82295  2016-05-16T00:00:00Z   59           ITARARÉ            0             1   \n",
       "73442  2016-05-20T00:00:00Z    4       SANTOS REIS            0             0   \n",
       "12365  2016-05-31T00:00:00Z   50  ILHA DO PRÍNCIPE            0             1   \n",
       "\n",
       "       Diabetes  Alcoholism  Handcap  SMS_received No-show  \n",
       "50364         0           0        0             1      No  \n",
       "87558         0           0        0             0      No  \n",
       "82295         0           1        0             0      No  \n",
       "73442         0           0        0             0      No  \n",
       "12365         0           1        0             0      No  "
      ]
     },
     "execution_count": 816,
     "metadata": {},
     "output_type": "execute_result"
    }
   ],
   "source": [
    "df = pd.read_csv(\"noshowappointments-kagglev2-may-2016.csv\") #read data\n",
    "df.sample(5) # explore data"
   ]
  },
  {
   "cell_type": "code",
   "execution_count": 817,
   "metadata": {},
   "outputs": [
    {
     "data": {
      "text/plain": [
       "(110527, 14)"
      ]
     },
     "execution_count": 817,
     "metadata": {},
     "output_type": "execute_result"
    }
   ],
   "source": [
    "df.shape"
   ]
  },
  {
   "cell_type": "markdown",
   "metadata": {},
   "source": [
    "> <b>Comments:</b>\n",
    ">\n",
    "> -We can drop the indepentent variable like <b>AppointmentID</b> as it is not affecting the dependent variable <b>No-show</b> in predicting whether or not the patient is going to show up.\n",
    ">\n",
    "> -<b>AppointmentDay</b> has <b>00:00:00</b> in its <b>TimeStamp</b> we will <b>remove</b> it.\n",
    ">\n",
    "> -in <b>ScheduledDay</b>, as we are going to remove the time from the <b>AppointmentDay</b> column we will do that here too. the time in schedule day is not important as if the time were assigned in appointment day.\n",
    ">\n",
    "> -There is misspelling in columns names like : <b>Hipertension</b>, the correct name should be <b>Hypertension</b>.\n",
    ">\n",
    "> -There is misspelling in columns names like : <b>Handcap</b>, the correct name should be <b>Handicap</b>.\n",
    ">\n",
    "> -Changing column <b>SMS_received</b> name to <b>SMSReceived</b> whould be better.\n",
    ">\n",
    "> -Changing column <b>No-show</b> name to <b>NoShow</b> whould be better.\n",
    ">\n",
    "> -An important thing about <b>No-show</b> column values, that <b>Yes</b> means that the patient didn't show at the appointment.\n",
    "> -Calculating the <b>WaitingTime</b> between the <b>ScheduledDay</b> and <b>AppointmentDay</b>, and setting the result in a new column with <b>WaitingTime</b> name. it could be useful.\n",
    "--------------------------------------------------------------------------------------------------------"
   ]
  },
  {
   "cell_type": "code",
   "execution_count": 818,
   "metadata": {},
   "outputs": [
    {
     "data": {
      "text/html": [
       "<div>\n",
       "<style scoped>\n",
       "    .dataframe tbody tr th:only-of-type {\n",
       "        vertical-align: middle;\n",
       "    }\n",
       "\n",
       "    .dataframe tbody tr th {\n",
       "        vertical-align: top;\n",
       "    }\n",
       "\n",
       "    .dataframe thead th {\n",
       "        text-align: right;\n",
       "    }\n",
       "</style>\n",
       "<table border=\"1\" class=\"dataframe\">\n",
       "  <thead>\n",
       "    <tr style=\"text-align: right;\">\n",
       "      <th></th>\n",
       "      <th>PatientId</th>\n",
       "      <th>AppointmentID</th>\n",
       "      <th>Age</th>\n",
       "      <th>Scholarship</th>\n",
       "      <th>Hipertension</th>\n",
       "      <th>Diabetes</th>\n",
       "      <th>Alcoholism</th>\n",
       "      <th>Handcap</th>\n",
       "      <th>SMS_received</th>\n",
       "    </tr>\n",
       "  </thead>\n",
       "  <tbody>\n",
       "    <tr>\n",
       "      <th>count</th>\n",
       "      <td>1.105270e+05</td>\n",
       "      <td>1.105270e+05</td>\n",
       "      <td>110527.000000</td>\n",
       "      <td>110527.000000</td>\n",
       "      <td>110527.000000</td>\n",
       "      <td>110527.000000</td>\n",
       "      <td>110527.000000</td>\n",
       "      <td>110527.000000</td>\n",
       "      <td>110527.000000</td>\n",
       "    </tr>\n",
       "    <tr>\n",
       "      <th>mean</th>\n",
       "      <td>1.474963e+14</td>\n",
       "      <td>5.675305e+06</td>\n",
       "      <td>37.088874</td>\n",
       "      <td>0.098266</td>\n",
       "      <td>0.197246</td>\n",
       "      <td>0.071865</td>\n",
       "      <td>0.030400</td>\n",
       "      <td>0.022248</td>\n",
       "      <td>0.321026</td>\n",
       "    </tr>\n",
       "    <tr>\n",
       "      <th>std</th>\n",
       "      <td>2.560949e+14</td>\n",
       "      <td>7.129575e+04</td>\n",
       "      <td>23.110205</td>\n",
       "      <td>0.297675</td>\n",
       "      <td>0.397921</td>\n",
       "      <td>0.258265</td>\n",
       "      <td>0.171686</td>\n",
       "      <td>0.161543</td>\n",
       "      <td>0.466873</td>\n",
       "    </tr>\n",
       "    <tr>\n",
       "      <th>min</th>\n",
       "      <td>3.921784e+04</td>\n",
       "      <td>5.030230e+06</td>\n",
       "      <td>-1.000000</td>\n",
       "      <td>0.000000</td>\n",
       "      <td>0.000000</td>\n",
       "      <td>0.000000</td>\n",
       "      <td>0.000000</td>\n",
       "      <td>0.000000</td>\n",
       "      <td>0.000000</td>\n",
       "    </tr>\n",
       "    <tr>\n",
       "      <th>25%</th>\n",
       "      <td>4.172614e+12</td>\n",
       "      <td>5.640286e+06</td>\n",
       "      <td>18.000000</td>\n",
       "      <td>0.000000</td>\n",
       "      <td>0.000000</td>\n",
       "      <td>0.000000</td>\n",
       "      <td>0.000000</td>\n",
       "      <td>0.000000</td>\n",
       "      <td>0.000000</td>\n",
       "    </tr>\n",
       "    <tr>\n",
       "      <th>50%</th>\n",
       "      <td>3.173184e+13</td>\n",
       "      <td>5.680573e+06</td>\n",
       "      <td>37.000000</td>\n",
       "      <td>0.000000</td>\n",
       "      <td>0.000000</td>\n",
       "      <td>0.000000</td>\n",
       "      <td>0.000000</td>\n",
       "      <td>0.000000</td>\n",
       "      <td>0.000000</td>\n",
       "    </tr>\n",
       "    <tr>\n",
       "      <th>75%</th>\n",
       "      <td>9.439172e+13</td>\n",
       "      <td>5.725524e+06</td>\n",
       "      <td>55.000000</td>\n",
       "      <td>0.000000</td>\n",
       "      <td>0.000000</td>\n",
       "      <td>0.000000</td>\n",
       "      <td>0.000000</td>\n",
       "      <td>0.000000</td>\n",
       "      <td>1.000000</td>\n",
       "    </tr>\n",
       "    <tr>\n",
       "      <th>max</th>\n",
       "      <td>9.999816e+14</td>\n",
       "      <td>5.790484e+06</td>\n",
       "      <td>115.000000</td>\n",
       "      <td>1.000000</td>\n",
       "      <td>1.000000</td>\n",
       "      <td>1.000000</td>\n",
       "      <td>1.000000</td>\n",
       "      <td>4.000000</td>\n",
       "      <td>1.000000</td>\n",
       "    </tr>\n",
       "  </tbody>\n",
       "</table>\n",
       "</div>"
      ],
      "text/plain": [
       "          PatientId  AppointmentID            Age    Scholarship  \\\n",
       "count  1.105270e+05   1.105270e+05  110527.000000  110527.000000   \n",
       "mean   1.474963e+14   5.675305e+06      37.088874       0.098266   \n",
       "std    2.560949e+14   7.129575e+04      23.110205       0.297675   \n",
       "min    3.921784e+04   5.030230e+06      -1.000000       0.000000   \n",
       "25%    4.172614e+12   5.640286e+06      18.000000       0.000000   \n",
       "50%    3.173184e+13   5.680573e+06      37.000000       0.000000   \n",
       "75%    9.439172e+13   5.725524e+06      55.000000       0.000000   \n",
       "max    9.999816e+14   5.790484e+06     115.000000       1.000000   \n",
       "\n",
       "        Hipertension       Diabetes     Alcoholism        Handcap  \\\n",
       "count  110527.000000  110527.000000  110527.000000  110527.000000   \n",
       "mean        0.197246       0.071865       0.030400       0.022248   \n",
       "std         0.397921       0.258265       0.171686       0.161543   \n",
       "min         0.000000       0.000000       0.000000       0.000000   \n",
       "25%         0.000000       0.000000       0.000000       0.000000   \n",
       "50%         0.000000       0.000000       0.000000       0.000000   \n",
       "75%         0.000000       0.000000       0.000000       0.000000   \n",
       "max         1.000000       1.000000       1.000000       4.000000   \n",
       "\n",
       "        SMS_received  \n",
       "count  110527.000000  \n",
       "mean        0.321026  \n",
       "std         0.466873  \n",
       "min         0.000000  \n",
       "25%         0.000000  \n",
       "50%         0.000000  \n",
       "75%         1.000000  \n",
       "max         1.000000  "
      ]
     },
     "execution_count": 818,
     "metadata": {},
     "output_type": "execute_result"
    }
   ],
   "source": [
    "#check missing values\n",
    "#check minimum and maximium values and mean of some columns\n",
    "df.describe()"
   ]
  },
  {
   "cell_type": "markdown",
   "metadata": {},
   "source": [
    "> <b>Comments:</b>\n",
    ">\n",
    "> -We can see that <b>Age</b> minimium value is <b>-1</b> and the maximum value is <b>115</b> ! that range indicates that there is an <b>outlaiers</b> in that column.\n",
    ">\n",
    "> -Also from here we can check for the <b>missing values</b> from count row. and the count row showes that there is <b>no missing values</b>.\n",
    "--------------------------------------------------------------------------------------------------------"
   ]
  },
  {
   "cell_type": "code",
   "execution_count": 819,
   "metadata": {},
   "outputs": [
    {
     "name": "stdout",
     "output_type": "stream",
     "text": [
      "<class 'pandas.core.frame.DataFrame'>\n",
      "RangeIndex: 110527 entries, 0 to 110526\n",
      "Data columns (total 14 columns):\n",
      "PatientId         110527 non-null float64\n",
      "AppointmentID     110527 non-null int64\n",
      "Gender            110527 non-null object\n",
      "ScheduledDay      110527 non-null object\n",
      "AppointmentDay    110527 non-null object\n",
      "Age               110527 non-null int64\n",
      "Neighbourhood     110527 non-null object\n",
      "Scholarship       110527 non-null int64\n",
      "Hipertension      110527 non-null int64\n",
      "Diabetes          110527 non-null int64\n",
      "Alcoholism        110527 non-null int64\n",
      "Handcap           110527 non-null int64\n",
      "SMS_received      110527 non-null int64\n",
      "No-show           110527 non-null object\n",
      "dtypes: float64(1), int64(8), object(5)\n",
      "memory usage: 11.8+ MB\n"
     ]
    }
   ],
   "source": [
    "# check missing values \n",
    "# check datatypes\n",
    "df.info()"
   ]
  },
  {
   "cell_type": "markdown",
   "metadata": {},
   "source": [
    "> <b>Comments:</b>\n",
    ">\n",
    "> -We can see that there is <b>no missing values</b> in this dataset.\n",
    ">\n",
    "> -<b>PatientId</b> is a <b>float64 datatype</b>, it is better to parsing it to <b>int64 datatype</b>.\n",
    ">\n",
    "> -<b>AppointmentDay</b> is an <b>object datatype</b>, it is better to parsing it to <b>DateTime datatype</b>.\n",
    ">\n",
    "> -<b>ScheduledDay</b> is an <b>object datatype</b>, it is better to parsing it to <b>DateTime datatype</b>.\n",
    ">\n",
    "> -<b>No-show</b> coulmn have to be changed from <b>yes-no</b> to <b>1-0</b> in a new column for better further use, with <b>int64 datatype</b>.\n",
    "--------------------------------------------------------------------------------------------------------"
   ]
  },
  {
   "cell_type": "code",
   "execution_count": 820,
   "metadata": {},
   "outputs": [
    {
     "data": {
      "text/plain": [
       "0"
      ]
     },
     "execution_count": 820,
     "metadata": {},
     "output_type": "execute_result"
    }
   ],
   "source": [
    "#check for duplicates\n",
    "sum(df.duplicated())"
   ]
  },
  {
   "cell_type": "markdown",
   "metadata": {},
   "source": [
    "> <b>Comment:</b>\n",
    ">\n",
    "> -No <b>duplicated rows</b> in the dataset.\n",
    "--------------------------------------------------------------------------------------------------------"
   ]
  },
  {
   "cell_type": "code",
   "execution_count": 821,
   "metadata": {},
   "outputs": [
    {
     "data": {
      "text/plain": [
       "PatientId          62299\n",
       "AppointmentID     110527\n",
       "Gender                 2\n",
       "ScheduledDay      103549\n",
       "AppointmentDay        27\n",
       "Age                  104\n",
       "Neighbourhood         81\n",
       "Scholarship            2\n",
       "Hipertension           2\n",
       "Diabetes               2\n",
       "Alcoholism             2\n",
       "Handcap                5\n",
       "SMS_received           2\n",
       "No-show                2\n",
       "dtype: int64"
      ]
     },
     "execution_count": 821,
     "metadata": {},
     "output_type": "execute_result"
    }
   ],
   "source": [
    "#check for the number of unique values in each column\n",
    "df.nunique()"
   ]
  },
  {
   "cell_type": "code",
   "execution_count": 822,
   "metadata": {},
   "outputs": [
    {
     "data": {
      "text/plain": [
       "array(['2016-04-29T18:38:08Z', '2016-04-29T16:08:27Z',\n",
       "       '2016-04-29T16:19:04Z', ..., '2016-04-27T16:03:52Z',\n",
       "       '2016-04-27T15:09:23Z', '2016-04-27T13:30:56Z'], dtype=object)"
      ]
     },
     "execution_count": 822,
     "metadata": {},
     "output_type": "execute_result"
    }
   ],
   "source": [
    "#check the unique values of ScheduledDay\n",
    "df[\"ScheduledDay\"].unique()"
   ]
  },
  {
   "cell_type": "code",
   "execution_count": 823,
   "metadata": {},
   "outputs": [
    {
     "data": {
      "text/plain": [
       "array(['2016-04-29T00:00:00Z', '2016-05-03T00:00:00Z',\n",
       "       '2016-05-10T00:00:00Z', '2016-05-17T00:00:00Z',\n",
       "       '2016-05-24T00:00:00Z', '2016-05-31T00:00:00Z',\n",
       "       '2016-05-02T00:00:00Z', '2016-05-30T00:00:00Z',\n",
       "       '2016-05-16T00:00:00Z', '2016-05-04T00:00:00Z',\n",
       "       '2016-05-19T00:00:00Z', '2016-05-12T00:00:00Z',\n",
       "       '2016-05-06T00:00:00Z', '2016-05-20T00:00:00Z',\n",
       "       '2016-05-05T00:00:00Z', '2016-05-13T00:00:00Z',\n",
       "       '2016-05-09T00:00:00Z', '2016-05-25T00:00:00Z',\n",
       "       '2016-05-11T00:00:00Z', '2016-05-18T00:00:00Z',\n",
       "       '2016-05-14T00:00:00Z', '2016-06-02T00:00:00Z',\n",
       "       '2016-06-03T00:00:00Z', '2016-06-06T00:00:00Z',\n",
       "       '2016-06-07T00:00:00Z', '2016-06-01T00:00:00Z',\n",
       "       '2016-06-08T00:00:00Z'], dtype=object)"
      ]
     },
     "execution_count": 823,
     "metadata": {},
     "output_type": "execute_result"
    }
   ],
   "source": [
    "#check the unique values of AppointmentDay\n",
    "df[\"AppointmentDay\"].unique()"
   ]
  },
  {
   "cell_type": "markdown",
   "metadata": {},
   "source": [
    "> <b>Comment:</b>\n",
    ">\n",
    "> -the number of the unique values in <b>ScheduledDay</b> is more than the number of the unique values in <b>AppointmentDay</b>, as the time is not assigned in the <b>AppointmentDay</b>.\n",
    "--------------------------------------------------------------------------------------------------------"
   ]
  },
  {
   "cell_type": "markdown",
   "metadata": {},
   "source": [
    "### 2 - Cleaning Data"
   ]
  },
  {
   "cell_type": "markdown",
   "metadata": {},
   "source": [
    "Data that we are going to clean :\n",
    "    \n",
    "> -Dropping the indepentent variables <b>PatientId</b> and <b>AppointmentID</b>.\n",
    ">\n",
    "> -Removing time from <b>AppointmentDay</b>.\n",
    ">\n",
    "> -Removing time from <b>ScheduledDay</b>.\n",
    ">\n",
    "> -Correcting column <b>Hipertension</b> name to <b>Hypertension</b>.\n",
    ">\n",
    "> -Correcting column <b>Handcap</b> name to <b>Handicap</b>.\n",
    ">\n",
    "> -Changing column <b>SMS_received</b> name to <b>SMSReceived</b>.\n",
    ">\n",
    "> -Changing column <b>No-show</b> name to <b>NoShow</b>.\n",
    ">\n",
    "> -<b>PatientId</b> is a <b>float64 datatype</b>, it is better to parsing it to <b>int64 datatype</b>.\n",
    ">\n",
    "> -Parsing <b>AppointmentDay</b> <b>object datatype</b> to <b>DateTime datatype</b>.\n",
    ">\n",
    "> -Parsing <b>ScheduledDay</b> <b>object datatype</b> to <b>DateTime datatype</b>.\n",
    ">\n",
    "> -<b>No-show</b> coulmn have to be encoded from <b>yes-no</b> to <b>1-0</b> for better further use.\n",
    ">\n",
    "> -Calculate WaitingTime between the <b>AppointmentDay</b> and the <b>ScheduledDay</b> and save the results in a new column with name <b>WaitingTime</b>.\n",
    ">\n",
    "> -Adding new column for making the values of the <b>WaitingTime</b> column be categorical, and save the results in a column with name <b>WaitingTimeGroup</b>.\n",
    "-------------------------------------------------------------------------------------------------------------------"
   ]
  },
  {
   "cell_type": "code",
   "execution_count": 824,
   "metadata": {},
   "outputs": [],
   "source": [
    "#Dropping the indepentent variable AppointmentID.\n",
    "cleaned_df = df.drop(columns=['AppointmentID'])\n",
    "\n",
    "#Removing time from AppointmentDay.\n",
    "cleaned_df[\"AppointmentDay\"] = cleaned_df[\"AppointmentDay\"].apply(lambda x : x[0:10])\n",
    "\n",
    "#Removing time from ScheduledDay.\n",
    "cleaned_df[\"ScheduledDay\"] = cleaned_df[\"ScheduledDay\"].apply(lambda x : x[0:10])\n",
    "\n",
    "#Correcting columns name: Hipertension to Hypertension, Handcap to Handicap, SMS_received to SMSReceived, No-show to NoShow.\n",
    "cleaned_df = cleaned_df.rename(columns = {\"Hipertension\": \"Hypertension\", \"Handcap\": \"Handicap\",\"SMS_received\": \"SMSReceived\",\"No-show\": \"NoShow\" })\n",
    "\n",
    "#Parsing AppointmentDay object datatype to DateTime datatype. \n",
    "cleaned_df['AppointmentDay']= pd.to_datetime(cleaned_df['AppointmentDay'])\n",
    "\n",
    "#Parsing ScheduledDay object datatype to DateTime datatype. \n",
    "cleaned_df['ScheduledDay']= pd.to_datetime(cleaned_df['ScheduledDay']) \n",
    "\n",
    "#Parsing PatientId datatype to int64 datatype. \n",
    "cleaned_df['PatientId']= cleaned_df['PatientId'].astype(np.int64)\n",
    "\n",
    "#No-show coulmn have to be encoded from yes-no to 1-0 for better further use.\n",
    "cleaned_df['NoShowTarget'] = cleaned_df['NoShow'].map({'Yes':1,'No':0}) # converting the data from categorical into intgers"
   ]
  },
  {
   "cell_type": "code",
   "execution_count": 825,
   "metadata": {},
   "outputs": [
    {
     "name": "stdout",
     "output_type": "stream",
     "text": [
      "<class 'pandas.core.frame.DataFrame'>\n",
      "RangeIndex: 110527 entries, 0 to 110526\n",
      "Data columns (total 14 columns):\n",
      "PatientId         110527 non-null int64\n",
      "Gender            110527 non-null object\n",
      "ScheduledDay      110527 non-null datetime64[ns]\n",
      "AppointmentDay    110527 non-null datetime64[ns]\n",
      "Age               110527 non-null int64\n",
      "Neighbourhood     110527 non-null object\n",
      "Scholarship       110527 non-null int64\n",
      "Hypertension      110527 non-null int64\n",
      "Diabetes          110527 non-null int64\n",
      "Alcoholism        110527 non-null int64\n",
      "Handicap          110527 non-null int64\n",
      "SMSReceived       110527 non-null int64\n",
      "NoShow            110527 non-null object\n",
      "NoShowTarget      110527 non-null int64\n",
      "dtypes: datetime64[ns](2), int64(9), object(3)\n",
      "memory usage: 11.8+ MB\n"
     ]
    }
   ],
   "source": [
    "cleaned_df.info()"
   ]
  },
  {
   "cell_type": "code",
   "execution_count": 826,
   "metadata": {},
   "outputs": [
    {
     "data": {
      "text/html": [
       "<div>\n",
       "<style scoped>\n",
       "    .dataframe tbody tr th:only-of-type {\n",
       "        vertical-align: middle;\n",
       "    }\n",
       "\n",
       "    .dataframe tbody tr th {\n",
       "        vertical-align: top;\n",
       "    }\n",
       "\n",
       "    .dataframe thead th {\n",
       "        text-align: right;\n",
       "    }\n",
       "</style>\n",
       "<table border=\"1\" class=\"dataframe\">\n",
       "  <thead>\n",
       "    <tr style=\"text-align: right;\">\n",
       "      <th></th>\n",
       "      <th>PatientId</th>\n",
       "      <th>Age</th>\n",
       "      <th>Scholarship</th>\n",
       "      <th>Hypertension</th>\n",
       "      <th>Diabetes</th>\n",
       "      <th>Alcoholism</th>\n",
       "      <th>Handicap</th>\n",
       "      <th>SMSReceived</th>\n",
       "      <th>NoShowTarget</th>\n",
       "    </tr>\n",
       "  </thead>\n",
       "  <tbody>\n",
       "    <tr>\n",
       "      <th>count</th>\n",
       "      <td>1.105270e+05</td>\n",
       "      <td>110527.000000</td>\n",
       "      <td>110527.000000</td>\n",
       "      <td>110527.000000</td>\n",
       "      <td>110527.000000</td>\n",
       "      <td>110527.000000</td>\n",
       "      <td>110527.000000</td>\n",
       "      <td>110527.000000</td>\n",
       "      <td>110527.000000</td>\n",
       "    </tr>\n",
       "    <tr>\n",
       "      <th>mean</th>\n",
       "      <td>1.474963e+14</td>\n",
       "      <td>37.088874</td>\n",
       "      <td>0.098266</td>\n",
       "      <td>0.197246</td>\n",
       "      <td>0.071865</td>\n",
       "      <td>0.030400</td>\n",
       "      <td>0.022248</td>\n",
       "      <td>0.321026</td>\n",
       "      <td>0.201933</td>\n",
       "    </tr>\n",
       "    <tr>\n",
       "      <th>std</th>\n",
       "      <td>2.560949e+14</td>\n",
       "      <td>23.110205</td>\n",
       "      <td>0.297675</td>\n",
       "      <td>0.397921</td>\n",
       "      <td>0.258265</td>\n",
       "      <td>0.171686</td>\n",
       "      <td>0.161543</td>\n",
       "      <td>0.466873</td>\n",
       "      <td>0.401444</td>\n",
       "    </tr>\n",
       "    <tr>\n",
       "      <th>min</th>\n",
       "      <td>3.921700e+04</td>\n",
       "      <td>-1.000000</td>\n",
       "      <td>0.000000</td>\n",
       "      <td>0.000000</td>\n",
       "      <td>0.000000</td>\n",
       "      <td>0.000000</td>\n",
       "      <td>0.000000</td>\n",
       "      <td>0.000000</td>\n",
       "      <td>0.000000</td>\n",
       "    </tr>\n",
       "    <tr>\n",
       "      <th>25%</th>\n",
       "      <td>4.172614e+12</td>\n",
       "      <td>18.000000</td>\n",
       "      <td>0.000000</td>\n",
       "      <td>0.000000</td>\n",
       "      <td>0.000000</td>\n",
       "      <td>0.000000</td>\n",
       "      <td>0.000000</td>\n",
       "      <td>0.000000</td>\n",
       "      <td>0.000000</td>\n",
       "    </tr>\n",
       "    <tr>\n",
       "      <th>50%</th>\n",
       "      <td>3.173184e+13</td>\n",
       "      <td>37.000000</td>\n",
       "      <td>0.000000</td>\n",
       "      <td>0.000000</td>\n",
       "      <td>0.000000</td>\n",
       "      <td>0.000000</td>\n",
       "      <td>0.000000</td>\n",
       "      <td>0.000000</td>\n",
       "      <td>0.000000</td>\n",
       "    </tr>\n",
       "    <tr>\n",
       "      <th>75%</th>\n",
       "      <td>9.439172e+13</td>\n",
       "      <td>55.000000</td>\n",
       "      <td>0.000000</td>\n",
       "      <td>0.000000</td>\n",
       "      <td>0.000000</td>\n",
       "      <td>0.000000</td>\n",
       "      <td>0.000000</td>\n",
       "      <td>1.000000</td>\n",
       "      <td>0.000000</td>\n",
       "    </tr>\n",
       "    <tr>\n",
       "      <th>max</th>\n",
       "      <td>9.999816e+14</td>\n",
       "      <td>115.000000</td>\n",
       "      <td>1.000000</td>\n",
       "      <td>1.000000</td>\n",
       "      <td>1.000000</td>\n",
       "      <td>1.000000</td>\n",
       "      <td>4.000000</td>\n",
       "      <td>1.000000</td>\n",
       "      <td>1.000000</td>\n",
       "    </tr>\n",
       "  </tbody>\n",
       "</table>\n",
       "</div>"
      ],
      "text/plain": [
       "          PatientId            Age    Scholarship   Hypertension  \\\n",
       "count  1.105270e+05  110527.000000  110527.000000  110527.000000   \n",
       "mean   1.474963e+14      37.088874       0.098266       0.197246   \n",
       "std    2.560949e+14      23.110205       0.297675       0.397921   \n",
       "min    3.921700e+04      -1.000000       0.000000       0.000000   \n",
       "25%    4.172614e+12      18.000000       0.000000       0.000000   \n",
       "50%    3.173184e+13      37.000000       0.000000       0.000000   \n",
       "75%    9.439172e+13      55.000000       0.000000       0.000000   \n",
       "max    9.999816e+14     115.000000       1.000000       1.000000   \n",
       "\n",
       "            Diabetes     Alcoholism       Handicap    SMSReceived  \\\n",
       "count  110527.000000  110527.000000  110527.000000  110527.000000   \n",
       "mean        0.071865       0.030400       0.022248       0.321026   \n",
       "std         0.258265       0.171686       0.161543       0.466873   \n",
       "min         0.000000       0.000000       0.000000       0.000000   \n",
       "25%         0.000000       0.000000       0.000000       0.000000   \n",
       "50%         0.000000       0.000000       0.000000       0.000000   \n",
       "75%         0.000000       0.000000       0.000000       1.000000   \n",
       "max         1.000000       1.000000       4.000000       1.000000   \n",
       "\n",
       "        NoShowTarget  \n",
       "count  110527.000000  \n",
       "mean        0.201933  \n",
       "std         0.401444  \n",
       "min         0.000000  \n",
       "25%         0.000000  \n",
       "50%         0.000000  \n",
       "75%         0.000000  \n",
       "max         1.000000  "
      ]
     },
     "execution_count": 826,
     "metadata": {},
     "output_type": "execute_result"
    }
   ],
   "source": [
    "cleaned_df.describe()"
   ]
  },
  {
   "cell_type": "code",
   "execution_count": 827,
   "metadata": {},
   "outputs": [
    {
     "data": {
      "text/plain": [
       "<matplotlib.axes._subplots.AxesSubplot at 0x194afa8aa48>"
      ]
     },
     "execution_count": 827,
     "metadata": {},
     "output_type": "execute_result"
    },
    {
     "data": {
      "image/png": "[encoded data removed]",
      "text/plain": [
       "<Figure size 1008x1008 with 1 Axes>"
      ]
     },
     "metadata": {
      "needs_background": "light"
     },
     "output_type": "display_data"
    }
   ],
   "source": [
    "cols = np.r_[4:5,10:11]\n",
    "cleaned_df.iloc[:, cols].plot(figsize=(14,14),kind='box')"
   ]
  },
  {
   "cell_type": "markdown",
   "metadata": {},
   "source": [
    "> <b>Comments:</b>\n",
    ">\n",
    "> to check the changes, and it seemes that every thing is okay now.\n",
    ">\n",
    ">let us handeling the outlaiers in tha <b>Age</b> column. we have to check those outlaiers may be there something in common between them.\n",
    "-------------------------------------------------------------------------------------------------------------------------"
   ]
  },
  {
   "cell_type": "code",
   "execution_count": 828,
   "metadata": {},
   "outputs": [
    {
     "data": {
      "text/plain": [
       "array([ -1,   0,   1,   2,   3,   4,   5,   6,   7,   8,   9,  10,  11,\n",
       "        12,  13,  14,  15,  16,  17,  18,  19,  20,  21,  22,  23,  24,\n",
       "        25,  26,  27,  28,  29,  30,  31,  32,  33,  34,  35,  36,  37,\n",
       "        38,  39,  40,  41,  42,  43,  44,  45,  46,  47,  48,  49,  50,\n",
       "        51,  52,  53,  54,  55,  56,  57,  58,  59,  60,  61,  62,  63,\n",
       "        64,  65,  66,  67,  68,  69,  70,  71,  72,  73,  74,  75,  76,\n",
       "        77,  78,  79,  80,  81,  82,  83,  84,  85,  86,  87,  88,  89,\n",
       "        90,  91,  92,  93,  94,  95,  96,  97,  98,  99, 100, 102, 115],\n",
       "      dtype=int64)"
      ]
     },
     "execution_count": 828,
     "metadata": {},
     "output_type": "execute_result"
    }
   ],
   "source": [
    "np.sort(cleaned_df[\"Age\"].unique())"
   ]
  },
  {
   "cell_type": "markdown",
   "metadata": {},
   "source": [
    "> <b>Comment:</b>\n",
    ">\n",
    "> Check the records of the -1 and 0 <b>Age</b> values.\n",
    "-----------------------------------------------------------------------------------------------------------------"
   ]
  },
  {
   "cell_type": "code",
   "execution_count": 829,
   "metadata": {},
   "outputs": [
    {
     "name": "stdout",
     "output_type": "stream",
     "text": [
      "Number of patients that their age is assigned with -1 :  1\n",
      "Number of patients that their age is assigned with 0 :  3539\n"
     ]
    }
   ],
   "source": [
    "print(\"Number of patients that their age is assigned with -1 : \",cleaned_df[cleaned_df[\"Age\"]==-1].shape[0])\n",
    "print(\"Number of patients that their age is assigned with 0 : \",cleaned_df[cleaned_df[\"Age\"]==0].shape[0])"
   ]
  },
  {
   "cell_type": "markdown",
   "metadata": {},
   "source": [
    "> <b>Comment</b>\n",
    ">\n",
    ">that -1 one record, is more likely a mistake while entering data, and it will not affect any thing id we remove that row.\n",
    "---------------------------------------------------------------------------------------------------------------------------"
   ]
  },
  {
   "cell_type": "code",
   "execution_count": 830,
   "metadata": {},
   "outputs": [],
   "source": [
    "cleaned_df = cleaned_df[cleaned_df[\"Age\"] >= 0]"
   ]
  },
  {
   "cell_type": "code",
   "execution_count": 831,
   "metadata": {},
   "outputs": [
    {
     "data": {
      "text/plain": [
       "(110526, 14)"
      ]
     },
     "execution_count": 831,
     "metadata": {},
     "output_type": "execute_result"
    }
   ],
   "source": [
    "cleaned_df.shape"
   ]
  },
  {
   "cell_type": "markdown",
   "metadata": {},
   "source": [
    ">  <b>Comment:</b>\n",
    ">\n",
    ">and the patients with <b>Age</b> equals to zero ia more likely babies, but we have to check about that with other attributes like <b>Alcoholism</b>, <b>Diabetes</b>, <b>Hypertension</b>.\n",
    "--------------------------------------------------------------------------------------------------------------"
   ]
  },
  {
   "cell_type": "code",
   "execution_count": 832,
   "metadata": {},
   "outputs": [],
   "source": [
    "age_zero_df = cleaned_df[cleaned_df[\"Age\"]==0]"
   ]
  },
  {
   "cell_type": "code",
   "execution_count": 833,
   "metadata": {},
   "outputs": [
    {
     "data": {
      "text/plain": [
       "<matplotlib.axes._subplots.AxesSubplot at 0x194ab2a3948>"
      ]
     },
     "execution_count": 833,
     "metadata": {},
     "output_type": "execute_result"
    },
    {
     "data": {
      "image/png": "[encoded data removed]",
      "text/plain": [
       "<Figure size 432x288 with 1 Axes>"
      ]
     },
     "metadata": {
      "needs_background": "light"
     },
     "output_type": "display_data"
    }
   ],
   "source": [
    "age_zero_df[\"Alcoholism\"].value_counts().plot(kind='bar')"
   ]
  },
  {
   "cell_type": "code",
   "execution_count": 834,
   "metadata": {},
   "outputs": [
    {
     "data": {
      "text/plain": [
       "<matplotlib.axes._subplots.AxesSubplot at 0x1949da46448>"
      ]
     },
     "execution_count": 834,
     "metadata": {},
     "output_type": "execute_result"
    },
    {
     "data": {
      "image/png": "[encoded data removed]",
      "text/plain": [
       "<Figure size 432x288 with 1 Axes>"
      ]
     },
     "metadata": {
      "needs_background": "light"
     },
     "output_type": "display_data"
    }
   ],
   "source": [
    "age_zero_df[\"Diabetes\"].value_counts().plot(kind='bar')"
   ]
  },
  {
   "cell_type": "code",
   "execution_count": 835,
   "metadata": {},
   "outputs": [
    {
     "data": {
      "image/png": "[encoded data removed]",
      "text/plain": [
       "<Figure size 432x288 with 1 Axes>"
      ]
     },
     "metadata": {
      "needs_background": "light"
     },
     "output_type": "display_data"
    }
   ],
   "source": [
    "age_zero_df[\"Hypertension\"].value_counts().plot(kind='bar');"
   ]
  },
  {
   "cell_type": "markdown",
   "metadata": {},
   "source": [
    "> <b>Comment:</b>\n",
    ">\n",
    "> Our suspection was right!, the patients who were assigned with <b>Age</b> equals to zero are baby ones. the above 3 graphs gives a strong indication that they are babies.\n",
    "----------------------------------------------------------------------------------------------------------------"
   ]
  },
  {
   "cell_type": "code",
   "execution_count": 836,
   "metadata": {},
   "outputs": [],
   "source": [
    "#to calculate the waiting time between any 2 dates, the first date must be ahead the second date.\n",
    "def calculate_date_difference (first_date, second_date):\n",
    "    return first_date - second_date"
   ]
  },
  {
   "cell_type": "code",
   "execution_count": 837,
   "metadata": {},
   "outputs": [],
   "source": [
    "cleaned_df['WaitingTime'] = calculate_date_difference(cleaned_df['AppointmentDay'],cleaned_df['ScheduledDay'])"
   ]
  },
  {
   "cell_type": "code",
   "execution_count": 838,
   "metadata": {},
   "outputs": [],
   "source": [
    "df_show_up = cleaned_df.NoShowTarget == 0\n",
    "df_no_show_up = cleaned_df.NoShowTarget == 1"
   ]
  },
  {
   "cell_type": "code",
   "execution_count": 839,
   "metadata": {},
   "outputs": [
    {
     "name": "stdout",
     "output_type": "stream",
     "text": [
      "patients that showed up mean:  37.790504154999034\n",
      "patients that did not show up mean:  34.31766656212196\n"
     ]
    }
   ],
   "source": [
    "print(\"patients that showed up mean: \",cleaned_df.Age[df_show_up].mean())\n",
    "print(\"patients that did not show up mean: \",cleaned_df.Age[df_no_show_up].mean())"
   ]
  },
  {
   "cell_type": "markdown",
   "metadata": {},
   "source": [
    "----------------------------------------------------------------"
   ]
  },
  {
   "cell_type": "markdown",
   "metadata": {},
   "source": [
    "##### the schedule day must be ahead the appointment day or at least at the same day , but canot be vise versa. so we want to check that all the appointmentsDay values are ahead the scheduledDay values."
   ]
  },
  {
   "cell_type": "code",
   "execution_count": 840,
   "metadata": {},
   "outputs": [],
   "source": [
    "\n",
    "check_ahead_dates = cleaned_df['AppointmentDay'] >= cleaned_df['ScheduledDay']"
   ]
  },
  {
   "cell_type": "code",
   "execution_count": 841,
   "metadata": {},
   "outputs": [
    {
     "data": {
      "text/plain": [
       "(110526,)"
      ]
     },
     "execution_count": 841,
     "metadata": {},
     "output_type": "execute_result"
    }
   ],
   "source": [
    "check_ahead_dates.shape"
   ]
  },
  {
   "cell_type": "code",
   "execution_count": 842,
   "metadata": {},
   "outputs": [
    {
     "data": {
      "text/plain": [
       "(110526, 15)"
      ]
     },
     "execution_count": 842,
     "metadata": {},
     "output_type": "execute_result"
    }
   ],
   "source": [
    "cleaned_df.shape"
   ]
  },
  {
   "cell_type": "markdown",
   "metadata": {},
   "source": [
    "> <b>Comments:</b>\n",
    ">\n",
    "> -Calculating the waiting time between the <b>AppointmentDay</b> and the <b>ScheduledDay</b> day and saving the results in a new column named <b>WaitingTime</b>. to see whether or not the <b>WaitingTime</b> affects if the patient show up or not for the appointment.\n",
    ">\n",
    "> -And printing the mean of the two categories.\n",
    ">\n",
    "> -No wrong assigned <b>ScheduledDay</b> aheads <b>AppointmentDay</b> Dates.\n",
    "--------------------------------------------------------------------------------------------------------------"
   ]
  },
  {
   "cell_type": "markdown",
   "metadata": {},
   "source": [
    "##### let's use the waiting time in create categorical waiting time group column to use it in more analysis with the noshow attribute, to get more insights if the longer the waiting time is , the more chance the patient donot show up or not."
   ]
  },
  {
   "cell_type": "code",
   "execution_count": 843,
   "metadata": {},
   "outputs": [
    {
     "name": "stderr",
     "output_type": "stream",
     "text": [
      "G:\\AnacondaSetup\\envs\\New_Env\\lib\\site-packages\\ipykernel_launcher.py:2: SettingWithCopyWarning: \n",
      "A value is trying to be set on a copy of a slice from a DataFrame\n",
      "\n",
      "See the caveats in the documentation: http://pandas.pydata.org/pandas-docs/stable/user_guide/indexing.html#returning-a-view-versus-a-copy\n",
      "  \n",
      "G:\\AnacondaSetup\\envs\\New_Env\\lib\\site-packages\\ipykernel_launcher.py:3: SettingWithCopyWarning: \n",
      "A value is trying to be set on a copy of a slice from a DataFrame\n",
      "\n",
      "See the caveats in the documentation: http://pandas.pydata.org/pandas-docs/stable/user_guide/indexing.html#returning-a-view-versus-a-copy\n",
      "  This is separate from the ipykernel package so we can avoid doing imports until\n",
      "G:\\AnacondaSetup\\envs\\New_Env\\lib\\site-packages\\ipykernel_launcher.py:4: SettingWithCopyWarning: \n",
      "A value is trying to be set on a copy of a slice from a DataFrame\n",
      "\n",
      "See the caveats in the documentation: http://pandas.pydata.org/pandas-docs/stable/user_guide/indexing.html#returning-a-view-versus-a-copy\n",
      "  after removing the cwd from sys.path.\n",
      "G:\\AnacondaSetup\\envs\\New_Env\\lib\\site-packages\\ipykernel_launcher.py:5: SettingWithCopyWarning: \n",
      "A value is trying to be set on a copy of a slice from a DataFrame\n",
      "\n",
      "See the caveats in the documentation: http://pandas.pydata.org/pandas-docs/stable/user_guide/indexing.html#returning-a-view-versus-a-copy\n",
      "  \"\"\"\n",
      "G:\\AnacondaSetup\\envs\\New_Env\\lib\\site-packages\\ipykernel_launcher.py:6: SettingWithCopyWarning: \n",
      "A value is trying to be set on a copy of a slice from a DataFrame\n",
      "\n",
      "See the caveats in the documentation: http://pandas.pydata.org/pandas-docs/stable/user_guide/indexing.html#returning-a-view-versus-a-copy\n",
      "  \n",
      "G:\\AnacondaSetup\\envs\\New_Env\\lib\\site-packages\\ipykernel_launcher.py:7: SettingWithCopyWarning: \n",
      "A value is trying to be set on a copy of a slice from a DataFrame\n",
      "\n",
      "See the caveats in the documentation: http://pandas.pydata.org/pandas-docs/stable/user_guide/indexing.html#returning-a-view-versus-a-copy\n",
      "  import sys\n",
      "G:\\AnacondaSetup\\envs\\New_Env\\lib\\site-packages\\ipykernel_launcher.py:8: SettingWithCopyWarning: \n",
      "A value is trying to be set on a copy of a slice from a DataFrame\n",
      "\n",
      "See the caveats in the documentation: http://pandas.pydata.org/pandas-docs/stable/user_guide/indexing.html#returning-a-view-versus-a-copy\n",
      "  \n",
      "G:\\AnacondaSetup\\envs\\New_Env\\lib\\site-packages\\ipykernel_launcher.py:9: SettingWithCopyWarning: \n",
      "A value is trying to be set on a copy of a slice from a DataFrame\n",
      "\n",
      "See the caveats in the documentation: http://pandas.pydata.org/pandas-docs/stable/user_guide/indexing.html#returning-a-view-versus-a-copy\n",
      "  if __name__ == '__main__':\n",
      "G:\\AnacondaSetup\\envs\\New_Env\\lib\\site-packages\\ipykernel_launcher.py:10: SettingWithCopyWarning: \n",
      "A value is trying to be set on a copy of a slice from a DataFrame\n",
      "\n",
      "See the caveats in the documentation: http://pandas.pydata.org/pandas-docs/stable/user_guide/indexing.html#returning-a-view-versus-a-copy\n",
      "  # Remove the CWD from sys.path while we load stuff.\n"
     ]
    }
   ],
   "source": [
    "cleaned_df['WaitingTimeGroup']=\"\"\n",
    "cleaned_df[\"WaitingTimeGroup\"][cleaned_df[\"WaitingTime\"]<= timedelta(20)] = \"20 days\"\n",
    "cleaned_df['WaitingTimeGroup'][(cleaned_df['WaitingTime']<=timedelta(40)) & (cleaned_df[\"WaitingTime\"]>timedelta(20))] =\"40 days\"\n",
    "cleaned_df['WaitingTimeGroup'][(cleaned_df['WaitingTime']<=timedelta(60)) & (cleaned_df[\"WaitingTime\"]>timedelta(40)) ]=\"60 days\"\n",
    "cleaned_df['WaitingTimeGroup'][(cleaned_df['WaitingTime'] <=timedelta(80)) & (cleaned_df[\"WaitingTime\"]>timedelta(60)) ]=\"80 days\"\n",
    "cleaned_df['WaitingTimeGroup'][(cleaned_df['WaitingTime'] <=timedelta(100)) & (cleaned_df[\"WaitingTime\"]>timedelta(80)) ]=\"100 days\"\n",
    "cleaned_df['WaitingTimeGroup'][(cleaned_df['WaitingTime'] <=timedelta(120)) & (cleaned_df[\"WaitingTime\"]>timedelta(100) )]=\"120 days\"\n",
    "cleaned_df['WaitingTimeGroup'][(cleaned_df['WaitingTime'] <=timedelta(140)) & (cleaned_df[\"WaitingTime\"]>timedelta(120)) ]=\"140 days\"\n",
    "cleaned_df['WaitingTimeGroup'][(cleaned_df['WaitingTime'] <=timedelta(160)) & (cleaned_df[\"WaitingTime\"]>timedelta(140)) ]=\"160 days\"\n",
    "cleaned_df['WaitingTimeGroup'][(cleaned_df['WaitingTime'] <=timedelta(180)) & (cleaned_df[\"WaitingTime\"]>timedelta(160)) ]=\"180 days\""
   ]
  },
  {
   "cell_type": "markdown",
   "metadata": {},
   "source": [
    "<a id='eda'></a>\n",
    "## Exploratory Data Analysis\n",
    "\n",
    ">let us asking the questions again here :\n",
    ">>1-What factors are important for us to know in order to predict if a patient will show up for their scheduled appointment?\n",
    ">>\n",
    ">>2- does the neighborhood is an important factor that make the patient doesnot show up?\n",
    ">>\n",
    ">>3-The waiting time of the patient between the schedule day and the appointment day influences it's no showing?\n",
    "\n",
    "> we are goining to :\n",
    ">> analyse our cleaned data\n",
    ">> found relashionships between variables\n",
    ">> giving assumptions\n",
    ">> answering Questions\n"
   ]
  },
  {
   "cell_type": "markdown",
   "metadata": {},
   "source": [
    "#### let's printing the first rows of our cleaned data , and see more properties of it after cleaninig."
   ]
  },
  {
   "cell_type": "code",
   "execution_count": 844,
   "metadata": {},
   "outputs": [
    {
     "data": {
      "text/html": [
       "<div>\n",
       "<style scoped>\n",
       "    .dataframe tbody tr th:only-of-type {\n",
       "        vertical-align: middle;\n",
       "    }\n",
       "\n",
       "    .dataframe tbody tr th {\n",
       "        vertical-align: top;\n",
       "    }\n",
       "\n",
       "    .dataframe thead th {\n",
       "        text-align: right;\n",
       "    }\n",
       "</style>\n",
       "<table border=\"1\" class=\"dataframe\">\n",
       "  <thead>\n",
       "    <tr style=\"text-align: right;\">\n",
       "      <th></th>\n",
       "      <th>PatientId</th>\n",
       "      <th>Gender</th>\n",
       "      <th>ScheduledDay</th>\n",
       "      <th>AppointmentDay</th>\n",
       "      <th>Age</th>\n",
       "      <th>Neighbourhood</th>\n",
       "      <th>Scholarship</th>\n",
       "      <th>Hypertension</th>\n",
       "      <th>Diabetes</th>\n",
       "      <th>Alcoholism</th>\n",
       "      <th>Handicap</th>\n",
       "      <th>SMSReceived</th>\n",
       "      <th>NoShow</th>\n",
       "      <th>NoShowTarget</th>\n",
       "      <th>WaitingTime</th>\n",
       "      <th>WaitingTimeGroup</th>\n",
       "    </tr>\n",
       "  </thead>\n",
       "  <tbody>\n",
       "    <tr>\n",
       "      <th>0</th>\n",
       "      <td>29872499824296</td>\n",
       "      <td>F</td>\n",
       "      <td>2016-04-29</td>\n",
       "      <td>2016-04-29</td>\n",
       "      <td>62</td>\n",
       "      <td>JARDIM DA PENHA</td>\n",
       "      <td>0</td>\n",
       "      <td>1</td>\n",
       "      <td>0</td>\n",
       "      <td>0</td>\n",
       "      <td>0</td>\n",
       "      <td>0</td>\n",
       "      <td>No</td>\n",
       "      <td>0</td>\n",
       "      <td>0 days</td>\n",
       "      <td>20 days</td>\n",
       "    </tr>\n",
       "    <tr>\n",
       "      <th>1</th>\n",
       "      <td>558997776694438</td>\n",
       "      <td>M</td>\n",
       "      <td>2016-04-29</td>\n",
       "      <td>2016-04-29</td>\n",
       "      <td>56</td>\n",
       "      <td>JARDIM DA PENHA</td>\n",
       "      <td>0</td>\n",
       "      <td>0</td>\n",
       "      <td>0</td>\n",
       "      <td>0</td>\n",
       "      <td>0</td>\n",
       "      <td>0</td>\n",
       "      <td>No</td>\n",
       "      <td>0</td>\n",
       "      <td>0 days</td>\n",
       "      <td>20 days</td>\n",
       "    </tr>\n",
       "    <tr>\n",
       "      <th>2</th>\n",
       "      <td>4262962299951</td>\n",
       "      <td>F</td>\n",
       "      <td>2016-04-29</td>\n",
       "      <td>2016-04-29</td>\n",
       "      <td>62</td>\n",
       "      <td>MATA DA PRAIA</td>\n",
       "      <td>0</td>\n",
       "      <td>0</td>\n",
       "      <td>0</td>\n",
       "      <td>0</td>\n",
       "      <td>0</td>\n",
       "      <td>0</td>\n",
       "      <td>No</td>\n",
       "      <td>0</td>\n",
       "      <td>0 days</td>\n",
       "      <td>20 days</td>\n",
       "    </tr>\n",
       "    <tr>\n",
       "      <th>3</th>\n",
       "      <td>867951213174</td>\n",
       "      <td>F</td>\n",
       "      <td>2016-04-29</td>\n",
       "      <td>2016-04-29</td>\n",
       "      <td>8</td>\n",
       "      <td>PONTAL DE CAMBURI</td>\n",
       "      <td>0</td>\n",
       "      <td>0</td>\n",
       "      <td>0</td>\n",
       "      <td>0</td>\n",
       "      <td>0</td>\n",
       "      <td>0</td>\n",
       "      <td>No</td>\n",
       "      <td>0</td>\n",
       "      <td>0 days</td>\n",
       "      <td>20 days</td>\n",
       "    </tr>\n",
       "    <tr>\n",
       "      <th>4</th>\n",
       "      <td>8841186448183</td>\n",
       "      <td>F</td>\n",
       "      <td>2016-04-29</td>\n",
       "      <td>2016-04-29</td>\n",
       "      <td>56</td>\n",
       "      <td>JARDIM DA PENHA</td>\n",
       "      <td>0</td>\n",
       "      <td>1</td>\n",
       "      <td>1</td>\n",
       "      <td>0</td>\n",
       "      <td>0</td>\n",
       "      <td>0</td>\n",
       "      <td>No</td>\n",
       "      <td>0</td>\n",
       "      <td>0 days</td>\n",
       "      <td>20 days</td>\n",
       "    </tr>\n",
       "  </tbody>\n",
       "</table>\n",
       "</div>"
      ],
      "text/plain": [
       "         PatientId Gender ScheduledDay AppointmentDay  Age      Neighbourhood  \\\n",
       "0   29872499824296      F   2016-04-29     2016-04-29   62    JARDIM DA PENHA   \n",
       "1  558997776694438      M   2016-04-29     2016-04-29   56    JARDIM DA PENHA   \n",
       "2    4262962299951      F   2016-04-29     2016-04-29   62      MATA DA PRAIA   \n",
       "3     867951213174      F   2016-04-29     2016-04-29    8  PONTAL DE CAMBURI   \n",
       "4    8841186448183      F   2016-04-29     2016-04-29   56    JARDIM DA PENHA   \n",
       "\n",
       "   Scholarship  Hypertension  Diabetes  Alcoholism  Handicap  SMSReceived  \\\n",
       "0            0             1         0           0         0            0   \n",
       "1            0             0         0           0         0            0   \n",
       "2            0             0         0           0         0            0   \n",
       "3            0             0         0           0         0            0   \n",
       "4            0             1         1           0         0            0   \n",
       "\n",
       "  NoShow  NoShowTarget WaitingTime WaitingTimeGroup  \n",
       "0     No             0      0 days          20 days  \n",
       "1     No             0      0 days          20 days  \n",
       "2     No             0      0 days          20 days  \n",
       "3     No             0      0 days          20 days  \n",
       "4     No             0      0 days          20 days  "
      ]
     },
     "execution_count": 844,
     "metadata": {},
     "output_type": "execute_result"
    }
   ],
   "source": [
    "cleaned_df.head()"
   ]
  },
  {
   "cell_type": "code",
   "execution_count": 845,
   "metadata": {},
   "outputs": [
    {
     "data": {
      "text/html": [
       "<div>\n",
       "<style scoped>\n",
       "    .dataframe tbody tr th:only-of-type {\n",
       "        vertical-align: middle;\n",
       "    }\n",
       "\n",
       "    .dataframe tbody tr th {\n",
       "        vertical-align: top;\n",
       "    }\n",
       "\n",
       "    .dataframe thead th {\n",
       "        text-align: right;\n",
       "    }\n",
       "</style>\n",
       "<table border=\"1\" class=\"dataframe\">\n",
       "  <thead>\n",
       "    <tr style=\"text-align: right;\">\n",
       "      <th></th>\n",
       "      <th>PatientId</th>\n",
       "      <th>Age</th>\n",
       "      <th>Scholarship</th>\n",
       "      <th>Hypertension</th>\n",
       "      <th>Diabetes</th>\n",
       "      <th>Alcoholism</th>\n",
       "      <th>Handicap</th>\n",
       "      <th>SMSReceived</th>\n",
       "      <th>NoShowTarget</th>\n",
       "      <th>WaitingTime</th>\n",
       "    </tr>\n",
       "  </thead>\n",
       "  <tbody>\n",
       "    <tr>\n",
       "      <th>count</th>\n",
       "      <td>1.105260e+05</td>\n",
       "      <td>110526.000000</td>\n",
       "      <td>110526.000000</td>\n",
       "      <td>110526.000000</td>\n",
       "      <td>110526.000000</td>\n",
       "      <td>110526.000000</td>\n",
       "      <td>110526.000000</td>\n",
       "      <td>110526.000000</td>\n",
       "      <td>110526.000000</td>\n",
       "      <td>110526</td>\n",
       "    </tr>\n",
       "    <tr>\n",
       "      <th>mean</th>\n",
       "      <td>1.474934e+14</td>\n",
       "      <td>37.089219</td>\n",
       "      <td>0.098266</td>\n",
       "      <td>0.197248</td>\n",
       "      <td>0.071865</td>\n",
       "      <td>0.030400</td>\n",
       "      <td>0.022248</td>\n",
       "      <td>0.321029</td>\n",
       "      <td>0.201934</td>\n",
       "      <td>10 days 04:24:39.789370</td>\n",
       "    </tr>\n",
       "    <tr>\n",
       "      <th>std</th>\n",
       "      <td>2.560943e+14</td>\n",
       "      <td>23.110026</td>\n",
       "      <td>0.297676</td>\n",
       "      <td>0.397923</td>\n",
       "      <td>0.258266</td>\n",
       "      <td>0.171686</td>\n",
       "      <td>0.161543</td>\n",
       "      <td>0.466874</td>\n",
       "      <td>0.401445</td>\n",
       "      <td>15 days 06:07:14.979140</td>\n",
       "    </tr>\n",
       "    <tr>\n",
       "      <th>min</th>\n",
       "      <td>3.921700e+04</td>\n",
       "      <td>0.000000</td>\n",
       "      <td>0.000000</td>\n",
       "      <td>0.000000</td>\n",
       "      <td>0.000000</td>\n",
       "      <td>0.000000</td>\n",
       "      <td>0.000000</td>\n",
       "      <td>0.000000</td>\n",
       "      <td>0.000000</td>\n",
       "      <td>-6 days +00:00:00</td>\n",
       "    </tr>\n",
       "    <tr>\n",
       "      <th>25%</th>\n",
       "      <td>4.172536e+12</td>\n",
       "      <td>18.000000</td>\n",
       "      <td>0.000000</td>\n",
       "      <td>0.000000</td>\n",
       "      <td>0.000000</td>\n",
       "      <td>0.000000</td>\n",
       "      <td>0.000000</td>\n",
       "      <td>0.000000</td>\n",
       "      <td>0.000000</td>\n",
       "      <td>0 days 00:00:00</td>\n",
       "    </tr>\n",
       "    <tr>\n",
       "      <th>50%</th>\n",
       "      <td>3.173184e+13</td>\n",
       "      <td>37.000000</td>\n",
       "      <td>0.000000</td>\n",
       "      <td>0.000000</td>\n",
       "      <td>0.000000</td>\n",
       "      <td>0.000000</td>\n",
       "      <td>0.000000</td>\n",
       "      <td>0.000000</td>\n",
       "      <td>0.000000</td>\n",
       "      <td>4 days 00:00:00</td>\n",
       "    </tr>\n",
       "    <tr>\n",
       "      <th>75%</th>\n",
       "      <td>9.438963e+13</td>\n",
       "      <td>55.000000</td>\n",
       "      <td>0.000000</td>\n",
       "      <td>0.000000</td>\n",
       "      <td>0.000000</td>\n",
       "      <td>0.000000</td>\n",
       "      <td>0.000000</td>\n",
       "      <td>1.000000</td>\n",
       "      <td>0.000000</td>\n",
       "      <td>15 days 00:00:00</td>\n",
       "    </tr>\n",
       "    <tr>\n",
       "      <th>max</th>\n",
       "      <td>9.999816e+14</td>\n",
       "      <td>115.000000</td>\n",
       "      <td>1.000000</td>\n",
       "      <td>1.000000</td>\n",
       "      <td>1.000000</td>\n",
       "      <td>1.000000</td>\n",
       "      <td>4.000000</td>\n",
       "      <td>1.000000</td>\n",
       "      <td>1.000000</td>\n",
       "      <td>179 days 00:00:00</td>\n",
       "    </tr>\n",
       "  </tbody>\n",
       "</table>\n",
       "</div>"
      ],
      "text/plain": [
       "          PatientId            Age    Scholarship   Hypertension  \\\n",
       "count  1.105260e+05  110526.000000  110526.000000  110526.000000   \n",
       "mean   1.474934e+14      37.089219       0.098266       0.197248   \n",
       "std    2.560943e+14      23.110026       0.297676       0.397923   \n",
       "min    3.921700e+04       0.000000       0.000000       0.000000   \n",
       "25%    4.172536e+12      18.000000       0.000000       0.000000   \n",
       "50%    3.173184e+13      37.000000       0.000000       0.000000   \n",
       "75%    9.438963e+13      55.000000       0.000000       0.000000   \n",
       "max    9.999816e+14     115.000000       1.000000       1.000000   \n",
       "\n",
       "            Diabetes     Alcoholism       Handicap    SMSReceived  \\\n",
       "count  110526.000000  110526.000000  110526.000000  110526.000000   \n",
       "mean        0.071865       0.030400       0.022248       0.321029   \n",
       "std         0.258266       0.171686       0.161543       0.466874   \n",
       "min         0.000000       0.000000       0.000000       0.000000   \n",
       "25%         0.000000       0.000000       0.000000       0.000000   \n",
       "50%         0.000000       0.000000       0.000000       0.000000   \n",
       "75%         0.000000       0.000000       0.000000       1.000000   \n",
       "max         1.000000       1.000000       4.000000       1.000000   \n",
       "\n",
       "        NoShowTarget              WaitingTime  \n",
       "count  110526.000000                   110526  \n",
       "mean        0.201934  10 days 04:24:39.789370  \n",
       "std         0.401445  15 days 06:07:14.979140  \n",
       "min         0.000000        -6 days +00:00:00  \n",
       "25%         0.000000          0 days 00:00:00  \n",
       "50%         0.000000          4 days 00:00:00  \n",
       "75%         0.000000         15 days 00:00:00  \n",
       "max         1.000000        179 days 00:00:00  "
      ]
     },
     "execution_count": 845,
     "metadata": {},
     "output_type": "execute_result"
    }
   ],
   "source": [
    "cleaned_df.describe()"
   ]
  },
  {
   "cell_type": "code",
   "execution_count": 846,
   "metadata": {},
   "outputs": [
    {
     "data": {
      "text/plain": [
       "array([[<matplotlib.axes._subplots.AxesSubplot object at 0x00000194A3653A88>,\n",
       "        <matplotlib.axes._subplots.AxesSubplot object at 0x00000194AC5ABCC8>,\n",
       "        <matplotlib.axes._subplots.AxesSubplot object at 0x00000194AC5B4F08>],\n",
       "       [<matplotlib.axes._subplots.AxesSubplot object at 0x00000194AB2775C8>,\n",
       "        <matplotlib.axes._subplots.AxesSubplot object at 0x00000194B01E3A48>,\n",
       "        <matplotlib.axes._subplots.AxesSubplot object at 0x00000194B01DB708>],\n",
       "       [<matplotlib.axes._subplots.AxesSubplot object at 0x000001949FCA7808>,\n",
       "        <matplotlib.axes._subplots.AxesSubplot object at 0x000001949D81F708>,\n",
       "        <matplotlib.axes._subplots.AxesSubplot object at 0x000001949D831B08>]],\n",
       "      dtype=object)"
      ]
     },
     "execution_count": 846,
     "metadata": {},
     "output_type": "execute_result"
    },
    {
     "data": {
      "image/png": "[encoded data removed]",
      "text/plain": [
       "<Figure size 1008x1008 with 9 Axes>"
      ]
     },
     "metadata": {
      "needs_background": "light"
     },
     "output_type": "display_data"
    }
   ],
   "source": [
    "cleaned_df.hist(figsize=(14,14))"
   ]
  },
  {
   "cell_type": "markdown",
   "metadata": {},
   "source": [
    "> we can get from here that most of patients are :\n",
    ">> their age is under 70 \n",
    ">> not have alcoholism/diabetes/hypertension issues\n",
    ">> are not handicaps\n",
    ">> showed-up for their appointments\n",
    ">> didnot recive appointment sms\n",
    ">> do not belongs to the provided scholarship from Brazel.\n",
    ">\n",
    ">we got also from the graph that the age is the only variable that have better distribution than the other variables. we can analyse that variable.\n",
    "\n",
    ">we are going to see each variable one by one , and then get relations between them."
   ]
  },
  {
   "cell_type": "markdown",
   "metadata": {},
   "source": [
    "### 1-Age"
   ]
  },
  {
   "cell_type": "code",
   "execution_count": 847,
   "metadata": {},
   "outputs": [
    {
     "data": {
      "text/plain": [
       "<matplotlib.axes._subplots.AxesSubplot at 0x194bb73e4c8>"
      ]
     },
     "execution_count": 847,
     "metadata": {},
     "output_type": "execute_result"
    },
    {
     "data": {
      "image/png": "[encoded data removed]",
      "text/plain": [
       "<Figure size 432x288 with 1 Axes>"
      ]
     },
     "metadata": {
      "needs_background": "light"
     },
     "output_type": "display_data"
    }
   ],
   "source": [
    "cleaned_df['Age'].hist()"
   ]
  },
  {
   "cell_type": "markdown",
   "metadata": {},
   "source": [
    "> <b>Comments:</b>\n",
    ">\n",
    "> -the distribution is right skewed a little bit.\n",
    "\n",
    "##### Let's see the relation between ages and no showup patients for their appointmnets."
   ]
  },
  {
   "cell_type": "code",
   "execution_count": 848,
   "metadata": {},
   "outputs": [
    {
     "data": {
      "image/png": "[encoded data removed]",
      "text/plain": [
       "<Figure size 1152x1152 with 1 Axes>"
      ]
     },
     "metadata": {
      "needs_background": "light"
     },
     "output_type": "display_data"
    }
   ],
   "source": [
    "cleaned_df.Age[df_show_up].value_counts().plot(label=\"show up\",alpha=0.5, kind='bar',figsize=(14,14))\n",
    "cleaned_df.Age[df_no_show_up].value_counts().plot(label=\"no show up\",alpha=0.5,kind='bar',figsize=(16,16),color=\"red\")\n",
    "plt.suptitle('Bar plot for patients Age')\n",
    "plt.xlabel('Age')\n",
    "plt.ylabel('Frequencies')\n",
    "plt.legend();"
   ]
  },
  {
   "cell_type": "code",
   "execution_count": 849,
   "metadata": {},
   "outputs": [
    {
     "data": {
      "image/png": "[encoded data removed]",
      "text/plain": [
       "<Figure size 432x288 with 1 Axes>"
      ]
     },
     "metadata": {
      "needs_background": "light"
     },
     "output_type": "display_data"
    }
   ],
   "source": [
    "cleaned_df.Age[df_show_up].hist(label=\"show up\",alpha=0.5)\n",
    "cleaned_df.Age[df_no_show_up].hist(label=\"no show up\",alpha=0.5)\n",
    "plt.suptitle('Distribution of patients Age')\n",
    "plt.xlabel('Age')\n",
    "plt.ylabel('Frequencies')\n",
    "plt.legend();\n"
   ]
  },
  {
   "cell_type": "markdown",
   "metadata": {},
   "source": [
    "> <b>Comments:</b>\n",
    ">\n",
    "> -it seems that as much the ages get higher is not an indication for not showing up. but it might give a good relevance if it mixed with another variable.\n",
    ">\n",
    "> -a small portion of patients that did not showup are above 70\n",
    ">\n",
    "> -the most patients that did not shpw up are in an very small age, it can indicates that maybe their parents have difficulities to bring the child. \n",
    ">\n",
    "> -the distribution is right skewed a little bit."
   ]
  },
  {
   "cell_type": "markdown",
   "metadata": {},
   "source": [
    "### 2-Patient ID"
   ]
  },
  {
   "cell_type": "code",
   "execution_count": 850,
   "metadata": {},
   "outputs": [
    {
     "data": {
      "text/plain": [
       "822145925426128    88\n",
       "99637671331        84\n",
       "26886125921145     70\n",
       "33534783483176     65\n",
       "258424392677       62\n",
       "                   ..\n",
       "2886912523138       1\n",
       "68129842443312      1\n",
       "99264711372         1\n",
       "2212945531847       1\n",
       "57863365759569      1\n",
       "Name: PatientId, Length: 62298, dtype: int64"
      ]
     },
     "execution_count": 850,
     "metadata": {},
     "output_type": "execute_result"
    }
   ],
   "source": [
    "cleaned_df[\"PatientId\"].value_counts()"
   ]
  },
  {
   "cell_type": "markdown",
   "metadata": {},
   "source": [
    "> <b>Comments:</b>\n",
    ">\n",
    "> we found that there are patients have regiestered for more than one appointment , that means they are frequently come to that hospital for different appointments, or they may have rescudle their appointment."
   ]
  },
  {
   "cell_type": "markdown",
   "metadata": {},
   "source": [
    "### 3-SMSReceived"
   ]
  },
  {
   "cell_type": "code",
   "execution_count": 851,
   "metadata": {},
   "outputs": [
    {
     "data": {
      "text/plain": [
       "Text(0, 0.5, 'Frequency')"
      ]
     },
     "execution_count": 851,
     "metadata": {},
     "output_type": "execute_result"
    },
    {
     "data": {
      "image/png": "[encoded data removed]",
      "text/plain": [
       "<Figure size 432x288 with 1 Axes>"
      ]
     },
     "metadata": {
      "needs_background": "light"
     },
     "output_type": "display_data"
    }
   ],
   "source": [
    "cleaned_df['SMSReceived'].hist()\n",
    "plt.suptitle('Bar plot for patients Reciving SMS')\n",
    "plt.xlabel('Recivied SMS')\n",
    "plt.ylabel('Frequency')"
   ]
  },
  {
   "cell_type": "markdown",
   "metadata": {},
   "source": [
    "#### Let's see the relation between SMSRecived and no showup patients for their appointmnets"
   ]
  },
  {
   "cell_type": "code",
   "execution_count": 852,
   "metadata": {},
   "outputs": [
    {
     "data": {
      "image/png": "[encoded data removed]",
      "text/plain": [
       "<Figure size 1152x1152 with 1 Axes>"
      ]
     },
     "metadata": {
      "needs_background": "light"
     },
     "output_type": "display_data"
    }
   ],
   "source": [
    "cleaned_df.SMSReceived[df_show_up].value_counts().plot(label=\"show up\",alpha=0.5, kind='bar',figsize=(14,14))\n",
    "cleaned_df.SMSReceived[df_no_show_up].value_counts().plot(label=\"no show up\",alpha=0.5,kind='bar',figsize=(16,16),color=\"red\")\n",
    "plt.suptitle('Bar plot for patients Reciving SMS')\n",
    "plt.xlabel('SMS Reciving')\n",
    "plt.ylabel('Frequency')\n",
    "plt.legend();"
   ]
  },
  {
   "cell_type": "markdown",
   "metadata": {},
   "source": [
    "> <b>Comments:</b>\n",
    ">\n",
    "> the most of people did not recive messages, However the number of patients that showed up (in both cases whether they recive messages or not) is high, that indicates that reciving messages doesnot affect the showup for the appointments. "
   ]
  },
  {
   "cell_type": "markdown",
   "metadata": {},
   "source": [
    "### 4-Neighbourhood"
   ]
  },
  {
   "cell_type": "code",
   "execution_count": 853,
   "metadata": {},
   "outputs": [
    {
     "data": {
      "image/png": "[encoded data removed]",
      "text/plain": [
       "<Figure size 1152x1152 with 1 Axes>"
      ]
     },
     "metadata": {
      "needs_background": "light"
     },
     "output_type": "display_data"
    }
   ],
   "source": [
    "cleaned_df.Neighbourhood[df_show_up].value_counts().plot(label=\"show up\",alpha=0.5, kind='bar',figsize=(14,14))\n",
    "cleaned_df.Neighbourhood[df_no_show_up].value_counts().plot(label=\"no show up\",alpha=0.5,kind='bar',figsize=(16,16),color=\"red\")\n",
    "plt.suptitle('Bar plot for patients Neighbourhood')\n",
    "plt.xlabel('Neighbourhood')\n",
    "plt.ylabel('Frequencies of patients from the same Neighbourhood')\n",
    "plt.legend();"
   ]
  },
  {
   "cell_type": "markdown",
   "metadata": {},
   "source": [
    "> <b>Comments:</b>\n",
    ">\n",
    "> it gives an indication that the neighbourhood does affect the  chance of showup for the appointments with a significant insight. it might gives more information if we mixed this variable up with another one. \n",
    "'JARDEIM CAMBURI' seems to be in a very vital place in the city so the chances for showing up in the hospital in this place is very high."
   ]
  },
  {
   "cell_type": "markdown",
   "metadata": {},
   "source": [
    "### 5-WaitingTime"
   ]
  },
  {
   "cell_type": "code",
   "execution_count": 854,
   "metadata": {},
   "outputs": [
    {
     "data": {
      "text/plain": [
       "Text(0, 0.5, 'Frequency')"
      ]
     },
     "execution_count": 854,
     "metadata": {},
     "output_type": "execute_result"
    },
    {
     "data": {
      "image/png": "[encoded data removed]",
      "text/plain": [
       "<Figure size 720x720 with 1 Axes>"
      ]
     },
     "metadata": {
      "needs_background": "light"
     },
     "output_type": "display_data"
    }
   ],
   "source": [
    "cleaned_df[\"WaitingTimeGroup\"].value_counts().plot(kind=\"bar\",figsize=(10,10))\n",
    "plt.suptitle('Bar plot for patients waiting time')\n",
    "plt.xlabel('Waiting Time Group')\n",
    "plt.ylabel('Frequency')"
   ]
  },
  {
   "cell_type": "markdown",
   "metadata": {},
   "source": [
    "> <b>Comments:</b>\n",
    ">\n",
    ">that indicates that the most of the appointments takesplace within 20 days."
   ]
  },
  {
   "cell_type": "markdown",
   "metadata": {},
   "source": [
    "#### let us check the relation ship between the new column WaitingTimeGroup and the NoShow attribute."
   ]
  },
  {
   "cell_type": "code",
   "execution_count": 855,
   "metadata": {},
   "outputs": [
    {
     "data": {
      "image/png": "[encoded data removed]",
      "text/plain": [
       "<Figure size 1152x1152 with 1 Axes>"
      ]
     },
     "metadata": {
      "needs_background": "light"
     },
     "output_type": "display_data"
    }
   ],
   "source": [
    "cleaned_df.WaitingTimeGroup[df_show_up].value_counts().plot(label=\"show up\",alpha=0.5, kind='bar',figsize=(14,14))\n",
    "cleaned_df.WaitingTimeGroup[df_no_show_up].value_counts().plot(label=\"no show up\",alpha=0.5,kind='bar',figsize=(16,16),color=\"red\")\n",
    "plt.suptitle('Bar plot for patients waiting time')\n",
    "plt.xlabel('Waiting Time Group')\n",
    "plt.ylabel('Frequency')\n",
    "plt.legend();"
   ]
  },
  {
   "cell_type": "markdown",
   "metadata": {},
   "source": [
    "> <b>Comments:</b>\n",
    ">\n",
    ">that gives a strong indication that as long the waiting time increases the showing up for the appoientments decreases."
   ]
  },
  {
   "cell_type": "markdown",
   "metadata": {},
   "source": [
    "### 6-NoShow"
   ]
  },
  {
   "cell_type": "code",
   "execution_count": 856,
   "metadata": {},
   "outputs": [
    {
     "data": {
      "image/png": "[encoded data removed]",
      "text/plain": [
       "<Figure size 432x288 with 1 Axes>"
      ]
     },
     "metadata": {
      "needs_background": "light"
     },
     "output_type": "display_data"
    }
   ],
   "source": [
    "cleaned_df.NoShow[df_show_up].hist(label='Showup', alpha=0.5 )\n",
    "cleaned_df.NoShow[df_no_show_up].hist(label='No Showup',alpha=0.5 )\n",
    "plt.suptitle('Bar plot for patients NoShow')\n",
    "plt.xlabel('No Showup')\n",
    "plt.ylabel('Frequency')\n",
    "plt.legend();\n",
    "\n",
    "#no means that the patient showed up.\n",
    "#yes means taht the patient didnt show up."
   ]
  },
  {
   "cell_type": "markdown",
   "metadata": {},
   "source": [
    "> <b>Comments:</b>\n",
    ">\n",
    "> it seems that people that show up more than the people that does not show up.\n",
    ">\n",
    "> About 30% of patients didn't show up.\n",
    ">\n",
    "> this dataset is not balanced."
   ]
  },
  {
   "cell_type": "markdown",
   "metadata": {},
   "source": [
    "### Answering Questions"
   ]
  },
  {
   "cell_type": "markdown",
   "metadata": {},
   "source": [
    "#### Questions:\n",
    ">>1-What factors are important for us to know in order to predict if a patient will show up for their scheduled appointment?\n",
    ">>\n",
    ">>2- does the neighborhood is an important factor that make the patient doesnot show up?\n",
    ">>\n",
    ">>3-The waiting time of the patient between the schedule day and the appointment day influences it's no showing?\n",
    "\n",
    "### 1-What factors are important for us to know in order to predict if a patient will show up for their scheduled appointment?\n"
   ]
  },
  {
   "cell_type": "markdown",
   "metadata": {
    "collapsed": true
   },
   "source": [
    ">-Alot of the insights here that have relevance that may influences no showup for their appointment if we mixed these variables up.\n",
    ">\n",
    ">-Variables that have relevance that may influences that patient not showing up:\n",
    ">>    -Age\n",
    ">>\n",
    ">>    -Waiting days\n",
    ">>\n",
    ">>    -Neighbourhood\n",
    ">>\n",
    ">>    -PatientsID: get patients who registered more than one time (reschedule).\n",
    ">>\n",
    "> the rest of looks like have little influences in making patients showing up."
   ]
  },
  {
   "cell_type": "markdown",
   "metadata": {},
   "source": [
    "### 2-Does the neighborhood is an important factor that make the patient doesnot show up?"
   ]
  },
  {
   "cell_type": "markdown",
   "metadata": {
    "collapsed": true
   },
   "source": [
    ">Yes, it is an important. we found that there are hospitals in vital places the number of patients that showed up for their appointments more than other hospitals with a great portion. and that indicates that the place of the hospital influences the showing up for the appoinmtments. "
   ]
  },
  {
   "cell_type": "markdown",
   "metadata": {},
   "source": [
    "### 3- The waiting time of the patient between the schedule day and the appointment day influences it's no showing?"
   ]
  },
  {
   "cell_type": "markdown",
   "metadata": {},
   "source": [
    ">Yes!, we found that the most of patients that showed up for their appointments their waiting time between the scheduled day and appointment day is between 0-20 days with a ratio more than the patients that showed up for their appointments and their waiting time between 20-40 days and 40-60 days. that gives an indication that as log the waiting time increases the chance that the patient doesn't show up increases. "
   ]
  },
  {
   "cell_type": "markdown",
   "metadata": {},
   "source": [
    "### 4- Did the people who recive the sms show up more than those who are not? "
   ]
  },
  {
   "cell_type": "markdown",
   "metadata": {},
   "source": [
    ">-No, we found that the number of patients that showed up and didnt recive sms is higher than the number of patients that recived sms and showed up!, that means that the sms are not a storng factor we can work on while predicting the noshowup for the appointment."
   ]
  },
  {
   "cell_type": "markdown",
   "metadata": {},
   "source": [
    "<a id='conclusions'></a>\n",
    "## Conclusions\n",
    "\n",
    "this analysis is performed on medical appointment no shows, \n",
    "\n",
    "About 30% from the patients have not attended to their appointemnets.\n",
    "\n",
    "the purpose of this analysis is to go deeper why patients dont show up for their appointment. And what are the main factors that affects the no show up chances. \n",
    "\n",
    "their are few issues with the dataset like negative values or outlaiers.\n",
    "\n",
    "-most of the variables are categorical or binary valued , that meaks us can't analysis more variables distribution and the relationships between each other and if we be able to create a predictive model by logistic regression or any other classifiers.\n",
    "\n",
    ">Age\n",
    ">>\n",
    ">>the noshow up chances increasing as older the person is.\n",
    ">>\n",
    ">>-most of the showed up patients was babies/and childes\n",
    ">>\n",
    ">>and we thought that the baby/child patients that didn't show up, their parents might faced some difficulities in bringing the baby or child. to the appointment. and that might makes the rate of not showing up increases.\n",
    "\n",
    "\n",
    ">PatientId\n",
    ">>there many patients have reschedule their appointments, they may have missed their appointments and attend in the rescudule appointment.\n",
    "\n",
    ">SMSRecived\n",
    ">>reciving messages doesnot affect the showup for the appointments. the number of patients who showed up and didnt recived any sms are much higher the number of patients who recive messages and showed up. it is not a good factor we can buld assumptions on.\n",
    "\n",
    ">Neighbourhood\n",
    ">>Neighbourhood affecte the chances that makes the patients show up , there is vital places in the city that chances for showing up in the hospital in this place is very high.\n",
    "\n",
    ">Waiting time \n",
    ">> by increasing the waiting time, the showing up chances for the appointment decreases. \n",
    "\n",
    ">NoShow\n",
    ">>the patients that show up more than the patients that does not show up.\n",
    "\n",
    "So we can say that <b>Age</b> and <b>Neighbourhood</b> and <b>WaitingTime</b> are the most important factors that affects the chances the patient shows up or not .\n",
    "\n",
    "\n",
    "\n",
    "## Limitations\n",
    "\n",
    "-some variables like neighbourhood would be very useful if we have the addresses of the patients and go deeper whether or not the distance is really an issue for the people who didn't show up. it is an important c=variable but doesnot have many information to go deeper behind\n",
    "\n",
    "-WaitingTime new variable, its datatype is timedelta, and applying bins to that variable to plot it causes many errors , so i tried to make WaitingTimeGroups manually step by step.it would be better if using bins works."
   ]
  },
  {
   "cell_type": "markdown",
   "metadata": {},
   "source": [
    "## References:"
   ]
  },
  {
   "cell_type": "markdown",
   "metadata": {},
   "source": [
    "https://www.kaggle.com/joniarroba/noshowappointments\n",
    "\n",
    "https://www.kaggle.com/joniarroba/noshowappointments/discussion/29699#229356\n",
    "\n",
    "https://www.python-course.eu/pandas_python_binning.php\n",
    "\n",
    "https://www.pylenin.com/blogs/mastering-python-datetime/\n",
    "\n",
    "https://matplotlib.org/3.1.1/gallery/subplots_axes_and_figures/figure_title.html\n",
    "\n",
    "https://stackoverflow.com/questions/12444716/how-do-i-set-the-figure-title-and-axes-labels-font-size-in-matplotlib\n",
    "\n",
    "\n",
    "https://stackoverflow.com/questions/4628122/how-to-construct-a-timedelta-object-from-a-simple-string\n",
    "\n",
    "https://stackoverflow.com/questions/53699809/binning-pandas-column-of-timestamps\n",
    "\n",
    "https://stackoverflow.com/questions/43500894/pandas-pd-cut-binning-datetime-column-series\n",
    "\n",
    "https://dfrieds.com/data-analysis/bin-values-python-pandas.html"
   ]
  },
  {
   "cell_type": "code",
   "execution_count": null,
   "metadata": {},
   "outputs": [],
   "source": []
  }
 ],
 "metadata": {
  "kernelspec": {
   "display_name": "Python 3",
   "language": "python",
   "name": "python3"
  },
  "language_info": {
   "codemirror_mode": {
    "name": "ipython",
    "version": 3
   },
   "file_extension": ".py",
   "mimetype": "text/x-python",
   "name": "python",
   "nbconvert_exporter": "python",
   "pygments_lexer": "ipython3",
   "version": "3.7.9"
  }
 },
 "nbformat": 4,
 "nbformat_minor": 2
}
